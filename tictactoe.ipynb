{
 "cells": [
  {
   "cell_type": "markdown",
   "metadata": {},
   "source": [
    "# Игра в крестики-нолики"
   ]
  },
  {
   "cell_type": "markdown",
   "metadata": {},
   "source": [
    "Для того чтобы запустить игру нужно загрузить все классы и код с игрой (выполнить все ячейки с кодом)"
   ]
  },
  {
   "cell_type": "markdown",
   "metadata": {},
   "source": [
    "## Core классы игры"
   ]
  },
  {
   "cell_type": "code",
   "execution_count": 53,
   "metadata": {},
   "outputs": [],
   "source": [
    "class Game:\n",
    "    \n",
    "    def __init__(self, field=None):\n",
    "        self.field = None\n",
    "        \n",
    "        if field:\n",
    "            self.field = field\n",
    "        else:\n",
    "            self.start()\n",
    "    \n",
    "    def start(self):\n",
    "        self.field = [' ']*9\n",
    "\n",
    "    def printField(self):\n",
    "        row = ''\n",
    "        for i in range(len(self.field)):\n",
    "            cell = self.field[i]\n",
    "            row+='['\n",
    "            if cell != ' ':\n",
    "                row+=cell\n",
    "            else:\n",
    "                row+=str(i+1)\n",
    "            row+=']'\n",
    "            if (i % 3 == 2): \n",
    "                print(row)\n",
    "                row = ''\n",
    "    \n",
    "    def set(self, position, side):\n",
    "        pos = int(position)-1\n",
    "        self.field[pos] = side\n",
    "\n",
    "    def getFree(self):\n",
    "        free = []\n",
    "        for i in range(len(self.field)):\n",
    "            cell = self.field[i]\n",
    "            if (cell == ' '):\n",
    "                free.append( (i+1) )\n",
    "        return free\n",
    "    \n",
    "    def isDraw(self):\n",
    "        free = self.getFree();\n",
    "        return len(free)==0;\n",
    "\n",
    "    def isWin(self, side):\n",
    "        for i in range(3):\n",
    "            isW = True \n",
    "            for j in range(3):\n",
    "                if self.field[i*3+j]!=side:\n",
    "                    isW = False\n",
    "                    break\n",
    "            if isW:\n",
    "                return isW\n",
    "            \n",
    "        for i in range(3):\n",
    "            isW = True \n",
    "            for j in range(3):\n",
    "                if self.field[j*3+i]!=side:\n",
    "                    isW = False\n",
    "                    break\n",
    "            if isW:\n",
    "                return isW\n",
    "            \n",
    "        isW = True;\n",
    "        for i in range(3):\n",
    "            if self.field[i*3+i]!=side:\n",
    "                isW = False\n",
    "                break\n",
    "        if isW:\n",
    "            return isW\n",
    "        \n",
    "        isWi = True;\n",
    "        for i in range(3):\n",
    "            if self.field[(i*3+2-i)]!=side:\n",
    "                isW = False\n",
    "                break\n",
    "        if isW:\n",
    "            return isW\n",
    "\n",
    "        return False\n",
    "\n",
    "    def getState(self, side):\n",
    "        if side == 'x':\n",
    "            return self.field\n",
    "\n",
    "        newField = ''\n",
    "        for i in range(len(self.field)):\n",
    "            if self.field[i]=='x':\n",
    "                newField += 'o'\n",
    "            elif self.field[i]=='o':\n",
    "                newField += 'x'\n",
    "            else:\n",
    "                newField += self.field[i] \n",
    "\n",
    "        return newField"
   ]
  },
  {
   "cell_type": "code",
   "execution_count": 54,
   "metadata": {},
   "outputs": [],
   "source": [
    "import os\n",
    "import json\n",
    "\n",
    "class AI:\n",
    "    def __init__(self):\n",
    "        self.table = {}\n",
    "        if os.path.isfile('./rewards.json'):\n",
    "            with open('rewards.json') as json_file:\n",
    "                self.table = json.load(json_file)\n",
    "                print(\"loaded AI from rewards.json\")\n",
    "\n",
    "    def getReward(self, state):\n",
    "        game = Game(state)\n",
    "        \n",
    "        #если победитель - мы, то оценка состояния игры \"1\"\n",
    "        if game.isWin('x'):\n",
    "            return 1\n",
    "\n",
    "        #если победиль - соперник, то оценка состояния игры \"0\"\n",
    "        if game.isWin('o'):\n",
    "            return 0\n",
    "\n",
    "        #смотрим ценность по таблице\n",
    "        strstate = ''.join(state)\n",
    "        if strstate in self.table.keys():\n",
    "            return self.table[strstate]\n",
    "\n",
    "        #если в таблице нет, то считаем начальной ценностью \"0.5\"\n",
    "        return 0.5\n",
    "\n",
    "    def correct(self, state, newReward):\n",
    "        oldReward = self.getReward(state)\n",
    "        strstate = ''.join(state)\n",
    "        self.table[strstate] = oldReward + 0.1 * (newReward - oldReward)\n",
    "\n",
    "    def save(self):\n",
    "        with open('rewards.json', 'w') as outfile:\n",
    "            json.dump(self.table, outfile)"
   ]
  },
  {
   "cell_type": "code",
   "execution_count": 55,
   "metadata": {},
   "outputs": [],
   "source": [
    "import random \n",
    "import copy\n",
    "\n",
    "class AIPlayer:\n",
    "    \n",
    "    def __init__(self, side, ai, isGreedy=True):\n",
    "        self.side = side\n",
    "        self.ai = ai\n",
    "        self.oldState = None\n",
    "        self.isGreedy = isGreedy\n",
    "\n",
    "    def getSide(self):\n",
    "        return self.side\n",
    "\n",
    "    def makeStep(self, game):\n",
    "        #получаем список доступных ходов\n",
    "        free = game.getFree()\n",
    "        \n",
    "        #решаем, является ли текущий ход \n",
    "        #зондирующим (случайным) или жадным (максимально выгодным)\n",
    "        \n",
    "        if not self.isGreedy:\n",
    "            #случайный ход\n",
    "            print('Random step')\n",
    "            step = random.choice(free)\n",
    "            game.set(step, self.side)\n",
    "            self.oldState = game.getState(self.side)\n",
    "            return step\n",
    "\n",
    "        #жадный ход\n",
    "        rewards = {}\n",
    "        for step in free:\n",
    "            # для каждого доступного хода оцениваем состояние игры после него\n",
    "            newGame = copy.deepcopy(game)\n",
    "            newGame.set(step, self.side)\n",
    "            rewards[step] = self.ai.getReward(newGame.getState(self.side))\n",
    "\n",
    "        #выясняем, какое вознаграждение оказалось максимальным\n",
    "        maxReward = 0\n",
    "        for reward in rewards.values():\n",
    "            if reward > maxReward:\n",
    "                maxReward = reward\n",
    "\n",
    "        #находим все шаги с максимальным вознаграждением\n",
    "        steps = []\n",
    "        \n",
    "        for step in rewards:\n",
    "            reward = rewards[step]\n",
    "            if (maxReward > (reward - 0.01)) and (maxReward < (reward + 0.01)):\n",
    "                steps.append(step)\n",
    "\n",
    "        #корректируем оценку прошлого состояния\n",
    "        #с учетом ценности нового состояния\n",
    "        if (self.oldState):\n",
    "            self.ai.correct(self.oldState, maxReward)\n",
    "\n",
    "        #выбираем ход из ходов с максимальный вознаграждением\n",
    "        step = random.choice(steps)\n",
    "        game.set(step, self.side)\n",
    "\n",
    "        #сохраняем текущее состояние для того, \n",
    "        #чтобы откорректировать её ценность на следующем ходе\n",
    "        self.oldState = game.getState(self.side)\n",
    "        return step\n",
    "\n",
    "    def loose(self):\n",
    "        #корректируем ценность предыдущего состояния при проигрыше\n",
    "        if self.oldState:\n",
    "            self.ai.correct(self.oldState, 0)\n",
    "\n",
    "    def win(self):\n",
    "        #корректируем ценность предыдущего состояния при выигрыше\n",
    "        if self.oldState:\n",
    "            self.ai.correct(self.oldState, 1)\n",
    "    \n",
    "    def draw(self):\n",
    "        #корректируем ценность предыдущего состояния при ничьей\n",
    "        if self.oldState:\n",
    "            self.ai.correct(self.oldState, 0.5)"
   ]
  },
  {
   "cell_type": "code",
   "execution_count": 56,
   "metadata": {},
   "outputs": [],
   "source": [
    "class UserPlayer:\n",
    "\n",
    "    def __init__(self, side):\n",
    "        self.side = side\n",
    "\n",
    "    def getSide(self):\n",
    "        return self.side\n",
    "\n",
    "    def makeStep(self, game):\n",
    "        game.printField()\n",
    "        \n",
    "        free = game.getFree()\n",
    "\n",
    "        inp = None\n",
    "        while (True):\n",
    "            inp = input()\n",
    "            if int(inp) in free:\n",
    "                break\n",
    "        \n",
    "        game.set(inp, self.side)\n",
    "\n",
    "    def loose(self):\n",
    "        print('you loose')\n",
    "\n",
    "    def win(self):\n",
    "        print('you win')\n",
    "\n",
    "    def draw(self):\n",
    "        print('draw')"
   ]
  },
  {
   "cell_type": "markdown",
   "metadata": {},
   "source": [
    "## Игра"
   ]
  },
  {
   "cell_type": "code",
   "execution_count": 57,
   "metadata": {},
   "outputs": [
    {
     "name": "stdout",
     "output_type": "stream",
     "text": [
      "Choose your side:\n",
      "X) x\n",
      "O) o\n",
      "Any other symbol if you would like to run AI vs AI\n",
      "\n",
      "loaded AI from rewards.json\n",
      "Enter games count:\n",
      "2\n",
      "New game 1\n",
      "[o][o][x]\n",
      "[x][x][o]\n",
      "[x][o][x]\n",
      "New game 2\n",
      "[1][x][o]\n",
      "[o][x][6]\n",
      "[7][x][9]\n"
     ]
    }
   ],
   "source": [
    "print('Choose your side:')\n",
    "print('X) x')\n",
    "print('O) o')\n",
    "print('Any other symbol if you would like to run AI vs AI')\n",
    "side = input();\n",
    "\n",
    "ai = AI()\n",
    "gameCount = 1\n",
    "\n",
    "playerX = None\n",
    "playerO = None\n",
    "\n",
    "if (side=='X') or (side=='x'):\n",
    "    playerX = UserPlayer('x')\n",
    "    playerO = AIPlayer('o', ai, True)\n",
    "elif (side=='O') or (side=='o'):\n",
    "    playerX = AIPlayer('x', ai, True)\n",
    "    playerO = UserPlayer('o')\n",
    "else:\n",
    "    playerX = AIPlayer('x', ai, True)\n",
    "    playerO = AIPlayer('o', ai, True)\n",
    "\n",
    "    print('Enter games count:')\n",
    "    gameCount = int(input())\n",
    "\n",
    "    if (gameCount <= 0):\n",
    "        gameCount = 1\n",
    "\n",
    "game = Game()\n",
    "for i in range(gameCount):\n",
    "    print('New game', i+1)\n",
    "    game.start()\n",
    "    while (True):\n",
    "        if game.isDraw():\n",
    "            playerX.draw()\n",
    "            playerO.draw()\n",
    "            break\n",
    "\n",
    "        playerX.makeStep(game)\n",
    "        if game.isWin(playerX.getSide()):\n",
    "            playerX.win()\n",
    "            playerO.loose()\n",
    "            break\n",
    "\n",
    "        if game.isDraw():\n",
    "            playerX.draw()\n",
    "            playerO.draw()\n",
    "            break\n",
    "\n",
    "        field = playerO.makeStep(game)\n",
    "        if game.isWin(playerO.getSide()):\n",
    "            playerO.win()\n",
    "            playerX.loose()\n",
    "            break\n",
    "    game.printField()\n",
    "\n",
    "ai.save()"
   ]
  },
  {
   "cell_type": "markdown",
   "metadata": {},
   "source": [
    "## Жадный Агент"
   ]
  },
  {
   "cell_type": "markdown",
   "metadata": {},
   "source": [
    "При запуске жадного агента нужно чтобы файл rewards.json находился в том же каталоге что и запускаемый код"
   ]
  },
  {
   "cell_type": "code",
   "execution_count": 58,
   "metadata": {},
   "outputs": [],
   "source": [
    "def state_to_gmstate(state):\n",
    "    \"\"\"\n",
    "    Переводим состояние игры из формата массива в формат строки,\n",
    "    который используется игрой\n",
    "    \"\"\"\n",
    "    gmstate = []\n",
    "    for row in state:\n",
    "        for ch in row:\n",
    "            if ch == -1:\n",
    "                gmstate.append(' ')\n",
    "            elif ch == 1:\n",
    "                gmstate.append('x')\n",
    "            else:\n",
    "                gmstate.append('o')\n",
    "    return gmstate"
   ]
  },
  {
   "cell_type": "code",
   "execution_count": 59,
   "metadata": {},
   "outputs": [],
   "source": [
    "def gmstep_to_step(step):\n",
    "    \"\"\"\n",
    "    Переводим обозначение хода из принятого в игре \n",
    "    в формат который ожидается на выходе агента\n",
    "    \"\"\"\n",
    "    steps = {\n",
    "        1:(1,1),\n",
    "        2:(1,2),\n",
    "        3:(1,3),\n",
    "        4:(2,1),\n",
    "        5:(2,2),\n",
    "        6:(2,3),\n",
    "        7:(3,1),\n",
    "        8:(3,2),\n",
    "        9:(3,3),\n",
    "    }\n",
    "    return steps[step]"
   ]
  },
  {
   "cell_type": "code",
   "execution_count": 60,
   "metadata": {},
   "outputs": [],
   "source": [
    "class AgentTicTacGreedy:\n",
    "  def __init__(self, is_zero):\n",
    "    #is_zero == True если нолик\n",
    "    self.player = None\n",
    "    ai = AI()\n",
    "    if is_zero:\n",
    "        self.player = AIPlayer('o', ai, True)\n",
    "    else:\n",
    "        self.player = AIPlayer('x', ai, True)\n",
    "\n",
    "  def get_action(self, state):\n",
    "    # пример state = [[1,0,1],[0,1,0],[0,1,0]] 1 - это крестик, 0 - это нолик, -1 - пусто\n",
    "    gmstate = state_to_gmstate(state)\n",
    "    game = Game(field=gmstate)\n",
    "    move = self.player.makeStep(game)\n",
    "    return gmstep_to_step(move) # возвращаем координаты хода\n",
    "\n",
    "  def is_done(self, state, reward):\n",
    "    # reward - вознаграждение 1 если выиграли , вызывается когда игра закончена\n",
    "    gmstate = state_to_gmstate(state)\n",
    "    game = Game(field=gmstate)\n",
    "    return game.isWin(self.player.getSide())\n",
    "    "
   ]
  },
  {
   "cell_type": "markdown",
   "metadata": {},
   "source": [
    "## Рандомный Агент"
   ]
  },
  {
   "cell_type": "code",
   "execution_count": 61,
   "metadata": {},
   "outputs": [],
   "source": [
    "class AgentTicTacRandom:\n",
    "  def __init__(self, is_zero):\n",
    "    #is_zero == True если нолик\n",
    "    self.player = None\n",
    "    ai = AI()\n",
    "    if is_zero:\n",
    "        self.player = AIPlayer('o', ai, False)\n",
    "    else:\n",
    "        self.player = AIPlayer('x', ai, False)\n",
    "\n",
    "  def get_action(self, state):\n",
    "    # пример state = [[1,0,1],[0,1,0],[0,1,0]] 1 - это крестик, 0 - это нолик, -1 - пусто\n",
    "    gmstate = state_to_gmstate(state)\n",
    "    game = Game(field=gmstate)\n",
    "    move = self.player.makeStep(game)\n",
    "    return gmstep_to_step(move) # возвращаем координаты хода\n",
    "\n",
    "  def is_done(self, state, reward):\n",
    "    # reward - вознаграждение 1 если выиграли , вызывается когда игра закончена\n",
    "    gmstate = state_to_gmstate(state)\n",
    "    game = Game(field=gmstate)\n",
    "    return game.isWin(self.player.getSide())"
   ]
  },
  {
   "cell_type": "markdown",
   "metadata": {},
   "source": [
    "### Проверяем"
   ]
  },
  {
   "cell_type": "code",
   "execution_count": 62,
   "metadata": {},
   "outputs": [
    {
     "name": "stdout",
     "output_type": "stream",
     "text": [
      "loaded AI from rewards.json\n",
      "loaded AI from rewards.json\n"
     ]
    }
   ],
   "source": [
    "greedy, rand = AgentTicTacGreedy(False), AgentTicTacRandom(True)"
   ]
  },
  {
   "cell_type": "code",
   "execution_count": 63,
   "metadata": {},
   "outputs": [
    {
     "data": {
      "text/plain": [
       "False"
      ]
     },
     "execution_count": 63,
     "metadata": {},
     "output_type": "execute_result"
    }
   ],
   "source": [
    "greedy.is_done([[1,0,1],[0,1,0],[0,1,0]], None)"
   ]
  },
  {
   "cell_type": "code",
   "execution_count": 64,
   "metadata": {},
   "outputs": [
    {
     "data": {
      "text/plain": [
       "True"
      ]
     },
     "execution_count": 64,
     "metadata": {},
     "output_type": "execute_result"
    }
   ],
   "source": [
    "rand.is_done([[0,0,1],[0,1,0],[0,1,1]], None)"
   ]
  },
  {
   "cell_type": "code",
   "execution_count": 65,
   "metadata": {},
   "outputs": [
    {
     "data": {
      "text/plain": [
       "(1, 2)"
      ]
     },
     "execution_count": 65,
     "metadata": {},
     "output_type": "execute_result"
    }
   ],
   "source": [
    "greedy.get_action([[1,-1,1],[0,0,0],[0,1,0]])"
   ]
  },
  {
   "cell_type": "code",
   "execution_count": 66,
   "metadata": {},
   "outputs": [
    {
     "name": "stdout",
     "output_type": "stream",
     "text": [
      "Random step\n"
     ]
    },
    {
     "data": {
      "text/plain": [
       "(2, 2)"
      ]
     },
     "execution_count": 66,
     "metadata": {},
     "output_type": "execute_result"
    }
   ],
   "source": [
    "rand.get_action([[1,-1,1],[0,-1,0],[0,1,0]])"
   ]
  }
 ],
 "metadata": {
  "kernelspec": {
   "display_name": "Python 3",
   "language": "python",
   "name": "python3"
  },
  "language_info": {
   "codemirror_mode": {
    "name": "ipython",
    "version": 3
   },
   "file_extension": ".py",
   "mimetype": "text/x-python",
   "name": "python",
   "nbconvert_exporter": "python",
   "pygments_lexer": "ipython3",
   "version": "3.7.3"
  }
 },
 "nbformat": 4,
 "nbformat_minor": 4
}
